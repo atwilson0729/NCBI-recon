{
 "cells": [
  {
   "cell_type": "code",
   "execution_count": 4,
   "id": "breeding-withdrawal",
   "metadata": {},
   "outputs": [
    {
     "name": "stdout",
     "output_type": "stream",
     "text": [
      "['D:\\\\jayData\\\\2020_12_diffs\\\\20201201_20201202.diff', 'D:\\\\jayData\\\\2020_12_diffs\\\\20201202_20201203.diff', 'D:\\\\jayData\\\\2020_12_diffs\\\\20201203_20201204.diff', 'D:\\\\jayData\\\\2020_12_diffs\\\\20201204_20201205.diff', 'D:\\\\jayData\\\\2020_12_diffs\\\\20201205_20201206.diff', 'D:\\\\jayData\\\\2020_12_diffs\\\\20201206_20201208.diff', 'D:\\\\jayData\\\\2020_12_diffs\\\\20201208_20201209.diff', 'D:\\\\jayData\\\\2020_12_diffs\\\\20201209_20201210.diff', 'D:\\\\jayData\\\\2020_12_diffs\\\\20201210_20201211.diff', 'D:\\\\jayData\\\\2020_12_diffs\\\\20201211_20201212.diff', 'D:\\\\jayData\\\\2020_12_diffs\\\\20201212_20201214.diff', 'D:\\\\jayData\\\\2020_12_diffs\\\\20201214_20201215.diff', 'D:\\\\jayData\\\\2020_12_diffs\\\\20201215_20201216.diff', 'D:\\\\jayData\\\\2020_12_diffs\\\\20201216_20201217.diff', 'D:\\\\jayData\\\\2020_12_diffs\\\\20201217_20201220.diff', 'D:\\\\jayData\\\\2020_12_diffs\\\\20201220_20201223.diff', 'D:\\\\jayData\\\\2020_12_diffs\\\\20201223_20201224.diff', 'D:\\\\jayData\\\\2020_12_diffs\\\\20201224_20201225.diff', 'D:\\\\jayData\\\\2020_12_diffs\\\\20201225_20201226.diff', 'D:\\\\jayData\\\\2020_12_diffs\\\\20201226_20201228.diff', 'D:\\\\jayData\\\\2020_12_diffs\\\\20201228_20201229.diff', 'D:\\\\jayData\\\\2020_12_diffs\\\\20201229_20201230.diff']\n"
     ]
    },
    {
     "name": "stderr",
     "output_type": "stream",
     "text": [
      "c:\\users\\atwil\\appdata\\local\\programs\\python\\python38\\lib\\site-packages\\IPython\\core\\interactiveshell.py:3165: DtypeWarning: Columns (0) have mixed types.Specify dtype option on import or set low_memory=False.\n",
      "  has_raised = await self.run_ast_nodes(code_ast.body, cell_name,\n",
      "c:\\users\\atwil\\appdata\\local\\programs\\python\\python38\\lib\\site-packages\\IPython\\core\\interactiveshell.py:3165: DtypeWarning: Columns (0,6) have mixed types.Specify dtype option on import or set low_memory=False.\n",
      "  has_raised = await self.run_ast_nodes(code_ast.body, cell_name,\n"
     ]
    }
   ],
   "source": [
    "#this is the initial import of the diff files, loading them into pandas dataframes\n",
    "import pandas as pd\n",
    "import os\n",
    "import numpy as np\n",
    "from csv_diff import load_csv, compare\n",
    "folderpath = r\"D:\\jayData\\2020_12_diffs\" # make sure to put the 'r' in front\n",
    "filepaths  = [os.path.join(folderpath, name) for name in os.listdir(folderpath)]\n",
    "all_files = []\n",
    "print(filepaths)\n",
    "header = ['tax_id', 'GeneID', 'Symbol', 'LocusTag', 'Synonyms', 'dbXrefs', 'chromosome', 'map_location', 'description', 'type_of_gene', 'Symbol_from_nomenclature_authority', 'Full_name_from_nomenclature_authority', 'Nomenclature_status', 'Other_designations', 'Modification_date', 'Feature_type']\n",
    "data = pd.read_csv(\"D:/jayData/2020_12_diffs/20201201_20201202.diff\", delimiter = \"\\t\", skiprows = 3)\n",
    "data.columns = header\n",
    "dfList = []\n",
    "for i in range(22):\n",
    "    globals()['df%s' % i] = pd.read_csv(filepaths[i], delimiter = \"\\t\", skiprows = 3)\n",
    "    globals()['df%s' % i].columns = header\n",
    "    dfList.append(globals()['df%s' % i])"
   ]
  },
  {
   "cell_type": "code",
   "execution_count": 5,
   "id": "clear-future",
   "metadata": {},
   "outputs": [],
   "source": [
    "n = 0\n",
    "for df in dfList:\n",
    "    df = df[df['tax_id'].str.contains('9606', na = False)]\n",
    "    df.to_csv('d:/jayData/2020_12_human_diffs/diff%s.csv' % n, index = False, sep = '\\t')\n",
    "    n += 1"
   ]
  },
  {
   "cell_type": "code",
   "execution_count": 6,
   "id": "veterinary-wichita",
   "metadata": {
    "scrolled": true,
    "tags": []
   },
   "outputs": [
    {
     "name": "stdout",
     "output_type": "stream",
     "text": [
      "0\n",
      "1\n",
      "2\n",
      "3\n",
      "4\n",
      "5\n",
      "6\n",
      "7\n",
      "8\n",
      "9\n",
      "10\n",
      "11\n"
     ]
    },
    {
     "ename": "KeyboardInterrupt",
     "evalue": "",
     "output_type": "error",
     "traceback": [
      "\u001b[1;31m---------------------------------------------------------------------------\u001b[0m",
      "\u001b[1;31mKeyboardInterrupt\u001b[0m                         Traceback (most recent call last)",
      "\u001b[1;32m<ipython-input-6-ccb683018a5c>\u001b[0m in \u001b[0;36m<module>\u001b[1;34m\u001b[0m\n\u001b[0;32m     48\u001b[0m     \u001b[1;32mfor\u001b[0m \u001b[0mi\u001b[0m\u001b[1;33m,\u001b[0m \u001b[0mrow\u001b[0m \u001b[1;32min\u001b[0m \u001b[0mdf\u001b[0m\u001b[1;33m.\u001b[0m\u001b[0miterrows\u001b[0m\u001b[1;33m(\u001b[0m\u001b[1;33m)\u001b[0m\u001b[1;33m:\u001b[0m\u001b[1;33m\u001b[0m\u001b[1;33m\u001b[0m\u001b[0m\n\u001b[0;32m     49\u001b[0m \u001b[1;31m#         temp = df[df['tax_id'].str.contains(str(df.at[i, 'GeneID']), na = False)]\u001b[0m\u001b[1;33m\u001b[0m\u001b[1;33m\u001b[0m\u001b[1;33m\u001b[0m\u001b[0m\n\u001b[1;32m---> 50\u001b[1;33m         \u001b[0msub\u001b[0m \u001b[1;33m=\u001b[0m \u001b[0mdf\u001b[0m\u001b[1;33m[\u001b[0m\u001b[0mdf\u001b[0m\u001b[1;33m.\u001b[0m\u001b[0mvalues\u001b[0m \u001b[1;33m==\u001b[0m \u001b[0mdf\u001b[0m\u001b[1;33m.\u001b[0m\u001b[0mat\u001b[0m\u001b[1;33m[\u001b[0m\u001b[0mi\u001b[0m\u001b[1;33m,\u001b[0m \u001b[1;34m'GeneID'\u001b[0m\u001b[1;33m]\u001b[0m\u001b[1;33m]\u001b[0m\u001b[1;33m\u001b[0m\u001b[1;33m\u001b[0m\u001b[0m\n\u001b[0m\u001b[0;32m     51\u001b[0m         \u001b[1;32mif\u001b[0m \u001b[0msub\u001b[0m\u001b[1;33m.\u001b[0m\u001b[0mshape\u001b[0m\u001b[1;33m[\u001b[0m\u001b[1;36m0\u001b[0m\u001b[1;33m]\u001b[0m \u001b[1;33m>\u001b[0m \u001b[1;36m1\u001b[0m\u001b[1;33m:\u001b[0m\u001b[1;33m\u001b[0m\u001b[1;33m\u001b[0m\u001b[0m\n\u001b[0;32m     52\u001b[0m             \u001b[1;32mif\u001b[0m \u001b[0msub\u001b[0m\u001b[1;33m.\u001b[0m\u001b[0miloc\u001b[0m\u001b[1;33m[\u001b[0m\u001b[1;36m0\u001b[0m\u001b[1;33m]\u001b[0m\u001b[1;33m[\u001b[0m\u001b[1;34m'Modification_date'\u001b[0m\u001b[1;33m]\u001b[0m \u001b[1;33m!=\u001b[0m \u001b[0msub\u001b[0m\u001b[1;33m.\u001b[0m\u001b[0miloc\u001b[0m\u001b[1;33m[\u001b[0m\u001b[1;36m1\u001b[0m\u001b[1;33m]\u001b[0m\u001b[1;33m[\u001b[0m\u001b[1;34m'Modification_date'\u001b[0m\u001b[1;33m]\u001b[0m\u001b[1;33m:\u001b[0m\u001b[1;33m\u001b[0m\u001b[1;33m\u001b[0m\u001b[0m\n",
      "\u001b[1;32mc:\\users\\atwil\\appdata\\local\\programs\\python\\python38\\lib\\site-packages\\pandas\\core\\frame.py\u001b[0m in \u001b[0;36m__getitem__\u001b[1;34m(self, key)\u001b[0m\n\u001b[0;32m   3013\u001b[0m         \u001b[1;31m# Do we have a (boolean) 1d indexer?\u001b[0m\u001b[1;33m\u001b[0m\u001b[1;33m\u001b[0m\u001b[1;33m\u001b[0m\u001b[0m\n\u001b[0;32m   3014\u001b[0m         \u001b[1;32mif\u001b[0m \u001b[0mcom\u001b[0m\u001b[1;33m.\u001b[0m\u001b[0mis_bool_indexer\u001b[0m\u001b[1;33m(\u001b[0m\u001b[0mkey\u001b[0m\u001b[1;33m)\u001b[0m\u001b[1;33m:\u001b[0m\u001b[1;33m\u001b[0m\u001b[1;33m\u001b[0m\u001b[0m\n\u001b[1;32m-> 3015\u001b[1;33m             \u001b[1;32mreturn\u001b[0m \u001b[0mself\u001b[0m\u001b[1;33m.\u001b[0m\u001b[0m_getitem_bool_array\u001b[0m\u001b[1;33m(\u001b[0m\u001b[0mkey\u001b[0m\u001b[1;33m)\u001b[0m\u001b[1;33m\u001b[0m\u001b[1;33m\u001b[0m\u001b[0m\n\u001b[0m\u001b[0;32m   3016\u001b[0m \u001b[1;33m\u001b[0m\u001b[0m\n\u001b[0;32m   3017\u001b[0m         \u001b[1;31m# We are left with two options: a single key, and a collection of keys,\u001b[0m\u001b[1;33m\u001b[0m\u001b[1;33m\u001b[0m\u001b[1;33m\u001b[0m\u001b[0m\n",
      "\u001b[1;32mc:\\users\\atwil\\appdata\\local\\programs\\python\\python38\\lib\\site-packages\\pandas\\core\\frame.py\u001b[0m in \u001b[0;36m_getitem_bool_array\u001b[1;34m(self, key)\u001b[0m\n\u001b[0;32m   3067\u001b[0m         \u001b[1;31m# be reindexed to match DataFrame rows\u001b[0m\u001b[1;33m\u001b[0m\u001b[1;33m\u001b[0m\u001b[1;33m\u001b[0m\u001b[0m\n\u001b[0;32m   3068\u001b[0m         \u001b[0mkey\u001b[0m \u001b[1;33m=\u001b[0m \u001b[0mcheck_bool_indexer\u001b[0m\u001b[1;33m(\u001b[0m\u001b[0mself\u001b[0m\u001b[1;33m.\u001b[0m\u001b[0mindex\u001b[0m\u001b[1;33m,\u001b[0m \u001b[0mkey\u001b[0m\u001b[1;33m)\u001b[0m\u001b[1;33m\u001b[0m\u001b[1;33m\u001b[0m\u001b[0m\n\u001b[1;32m-> 3069\u001b[1;33m         \u001b[0mindexer\u001b[0m \u001b[1;33m=\u001b[0m \u001b[0mkey\u001b[0m\u001b[1;33m.\u001b[0m\u001b[0mnonzero\u001b[0m\u001b[1;33m(\u001b[0m\u001b[1;33m)\u001b[0m\u001b[1;33m[\u001b[0m\u001b[1;36m0\u001b[0m\u001b[1;33m]\u001b[0m\u001b[1;33m\u001b[0m\u001b[1;33m\u001b[0m\u001b[0m\n\u001b[0m\u001b[0;32m   3070\u001b[0m         \u001b[1;32mreturn\u001b[0m \u001b[0mself\u001b[0m\u001b[1;33m.\u001b[0m\u001b[0m_take_with_is_copy\u001b[0m\u001b[1;33m(\u001b[0m\u001b[0mindexer\u001b[0m\u001b[1;33m,\u001b[0m \u001b[0maxis\u001b[0m\u001b[1;33m=\u001b[0m\u001b[1;36m0\u001b[0m\u001b[1;33m)\u001b[0m\u001b[1;33m\u001b[0m\u001b[1;33m\u001b[0m\u001b[0m\n\u001b[0;32m   3071\u001b[0m \u001b[1;33m\u001b[0m\u001b[0m\n",
      "\u001b[1;31mKeyboardInterrupt\u001b[0m: "
     ]
    }
   ],
   "source": [
    "newDfList = []\n",
    "n = 0\n",
    "\n",
    "for df in dfList:\n",
    "    print(n)\n",
    "    diff_symbols = []\n",
    "    df = df[['tax_id', 'GeneID', 'Synonyms', 'dbXrefs', 'chromosome', 'Modification_date']]\n",
    "    df = df[df['tax_id'].str.contains('9606', na = False)]\n",
    "    for i, row in df.iterrows():\n",
    "        diff_symbols.append(df.at[i, 'tax_id'][0])\n",
    "#         if df.at[i, 'tax_id'][0] == ' ':\n",
    "#             df.drop(i, inplace = True)\n",
    "\n",
    "    synonym_count = []\n",
    "    dbXrefs_count = []\n",
    "    has_hgnc = []\n",
    "    has_mim = []\n",
    "    has_ensembl = []\n",
    "    for i, row in df.iterrows():\n",
    "        if isinstance(df.at[i, 'Synonyms'], str):\n",
    "            if df.at[i, 'Synonyms'] == '-':\n",
    "                synonym_count.append(0)\n",
    "            else:\n",
    "                synonym_count.append(str(df.at[i, 'Synonyms'].count('|') + 1))\n",
    "        if isinstance(df.at[i, 'Synonyms'], float):\n",
    "            synonym_count.append(0)\n",
    "    \n",
    "    for i, row in df.iterrows():\n",
    "        val = df.at[i, 'dbXrefs']\n",
    "        if isinstance(val, str):\n",
    "            if val == '-':\n",
    "                dbXrefs_count.append(0)\n",
    "                has_hgnc.append(False)\n",
    "                has_mim.append(False)\n",
    "                has_ensembl.append(False)\n",
    "            else:\n",
    "                dbXrefs_count.append(str(val.count('|') + 1))\n",
    "                has_hgnc.append('HGNC' in val)\n",
    "                has_mim.append('MIM' in val)\n",
    "                has_ensembl.append('Ensembl' in val)\n",
    "        if isinstance(val, float):\n",
    "            dbXrefs_count.append(0)\n",
    "            has_hgnc.append(False)\n",
    "            has_mim.append(False)\n",
    "            has_ensembl.append(False)\n",
    "    \n",
    "    indelupdateCols = []\n",
    "    for i, row in df.iterrows():\n",
    "#         temp = df[df['tax_id'].str.contains(str(df.at[i, 'GeneID']), na = False)]\n",
    "        sub = df[df.values == df.at[i, 'GeneID']]\n",
    "        if sub.shape[0] > 1:\n",
    "            if sub.iloc[0]['Modification_date'] != sub.iloc[1]['Modification_date']:\n",
    "                indelupdateCols.append('update - date only')\n",
    "            else:\n",
    "                indelupdateCols.append('update')\n",
    "        if sub.shape[0] <= 1:\n",
    "            if df.at[i, 'tax_id'][0] == ' ':\n",
    "                indelupdateCols.append('NA')\n",
    "            if df.at[i, 'tax_id'][0] == '+':\n",
    "                indelupdateCols.append('insertion')\n",
    "            if df.at[i, 'tax_id'][0] == '-':\n",
    "                indelupdateCols.append('deletion')\n",
    "            if df.at[i, 'tax_id'][0] == '@':\n",
    "                indelupdateCols.append('NA')\n",
    "                \n",
    "    for i, row in df.iterrows():\n",
    "        df.at[i, 'tax_id'] = df.at[i,'tax_id'][1:]\n",
    "        \n",
    "    df['synonym_count'] = synonym_count\n",
    "    df['dbXrefs_count'] = dbXrefs_count\n",
    "    df['has_hgnc'] = has_hgnc\n",
    "    df['has_mim'] = has_mim\n",
    "    df['has_ensembl'] = has_ensembl\n",
    "    df['diff_symbol'] = diff_symbols\n",
    "    df['insert_delete_or_update'] = indelupdateCols\n",
    "    newDfList.append(df.copy())\n",
    "    n += 1"
   ]
  },
  {
   "cell_type": "code",
   "execution_count": null,
   "id": "distinct-guest",
   "metadata": {},
   "outputs": [],
   "source": [
    "sum = 0\n",
    "for df in newDfList:\n",
    "    print(df.shape[0])\n",
    "    sum += df.shape[0]"
   ]
  },
  {
   "cell_type": "code",
   "execution_count": null,
   "id": "trained-trout",
   "metadata": {},
   "outputs": [],
   "source": [
    "print(newDfList[1])"
   ]
  },
  {
   "cell_type": "code",
   "execution_count": null,
   "id": "worldwide-brief",
   "metadata": {},
   "outputs": [],
   "source": [
    "n = 0\n",
    "for df in newDfList:\n",
    "    df.to_csv('d:/jayData/2020_12_human_diff_analyses/diffAnal%s.csv' % n, index = False, sep = '\\t')\n",
    "    n += 1\n"
   ]
  },
  {
   "cell_type": "code",
   "execution_count": null,
   "id": "animal-scheme",
   "metadata": {},
   "outputs": [],
   "source": [
    "datesUpdateList = []\n",
    "for df in newDfList:\n",
    "    df = df[~df['insert_delete_or_update'].str.contains('date only', na = False)]\n",
    "    df = df[~df['insert_delete_or_update'].str.contains('NA', na = False)]\n",
    "\n",
    "    datesUpdateList.append(df.copy(deep = True))\n",
    "    print(df)"
   ]
  },
  {
   "cell_type": "code",
   "execution_count": null,
   "id": "combined-corps",
   "metadata": {},
   "outputs": [],
   "source": [
    "#         print(sub)\n",
    "# for i in range(0, indelTable.shape[0]):\n",
    "#     try:\n",
    "#         if indelTable.iloc[i]['GeneID'] == indelTable.iloc[i+1]['GeneID']:\n",
    "#             indelupdateCols.append('update')\n",
    "# #             if indelTable.iloc[i]['diff_symbols'] == '-' and indelTable.iloc[i+1]['diff_symbols'] == '+':\n",
    "# #                 indelupdateCols.append('update')\n",
    "#         elif indelTable.iloc[i]['GeneID'] == indelTable.iloc[i-1]['GeneID']:\n",
    "#             indelupdateCols.append('update')\n",
    "#         elif indelTable.iloc[i]['GeneID'] != indelTable.iloc[i+1]['GeneID'] or indelTable.iloc[i]['GeneID'] != indelTable.iloc[i-1]['GeneID']:\n",
    "#             if indelTable.iloc[i]['diff_symbols'] == '+':\n",
    "#                 indelupdateCols.append('insertion')\n",
    "#             if indelTable.iloc[i]['diff_symbols'] == '-':\n",
    "#                 indelupdateCols.append('deletion')\n",
    "#     except(IndexError):\n",
    "#         continue"
   ]
  },
  {
   "cell_type": "code",
   "execution_count": 200,
   "id": "suited-publicity",
   "metadata": {},
   "outputs": [],
   "source": [
    "keys = indelTable['chromosome'].unique()\n",
    "chromCountDict = dict.fromkeys(keys, 0)\n",
    "for i, row in indelTable.iterrows():\n",
    "    key = indelTable.at[i, 'chromosome']\n",
    "    try:\n",
    "        chromCountDict[key] += 1\n",
    "    except KeyError:\n",
    "        continue\n",
    "chromCountList = list(chromCountDict.items())\n",
    "for i in range(len(chromCountList)- 1):\n",
    "    for j in range(i + 1, len(chromCountList)):\n",
    "        if chromCountList[i][1] > chromCountList[j][1]:\n",
    "            temp = chromCountList[i]\n",
    "            chromCountList[i] = chromCountList[j]\n",
    "            chromCountList[j] = temp\n",
    "    chromCountDict = dict(chromCountList)"
   ]
  },
  {
   "cell_type": "code",
   "execution_count": 201,
   "id": "distant-rates",
   "metadata": {},
   "outputs": [
    {
     "name": "stdout",
     "output_type": "stream",
     "text": [
      "{'MT': 12, 'X|Y': 14, 'Y': 66, nan: 132, '-': 226, '21': 262, '18': 400, '13': 458, '22': 527, '20': 656, '15': 714, '8': 842, '14': 854, '16': 925, '10': 958, 'X': 990, '4': 997, '9': 1016, '5': 1104, '7': 1255, '12': 1289, '6': 1318, '3': 1348, '17': 1438, '11': 1494, '2': 1559, '19': 1561, '1': 2386}\n"
     ]
    }
   ],
   "source": [
    "print(chromCountDict)"
   ]
  },
  {
   "cell_type": "code",
   "execution_count": 205,
   "id": "small-condition",
   "metadata": {},
   "outputs": [],
   "source": [
    "# dbXrefs\n",
    "keys = indelTable['dbXrefs_count'].unique()\n",
    "dbXrefsCountDict = dict.fromkeys(keys, 0)\n",
    "for i, row in indelTable.iterrows():\n",
    "    key = indelTable.at[i, 'dbXrefs_count']\n",
    "    try:\n",
    "        dbXrefsCountDict[key] += 1\n",
    "    except KeyError:\n",
    "        continue\n",
    "dbXrefsCountList = list(dbXrefsCountDict.items())\n",
    "for i in range(len(dbXrefsCountList) - 1):\n",
    "    for j in range(i + 1, len(dbXrefsCountList)):\n",
    "        if dbXrefsCountList[i][1] > dbXrefsCountList[j][1]:\n",
    "            temp = dbXrefsCountList[i]\n",
    "            dbXrefsCountList[i] = dbXrefsCountList[j]\n",
    "            dbXrefsCountList[j] = temp\n",
    "    dbXrefsCountDict = dict(dbXrefsCountList)\n"
   ]
  },
  {
   "cell_type": "code",
   "execution_count": 206,
   "id": "oriental-minute",
   "metadata": {},
   "outputs": [
    {
     "name": "stdout",
     "output_type": "stream",
     "text": [
      "{5: 6, 4: 449, 0: 500, 1: 825, 2: 2267, 3: 20754}\n"
     ]
    }
   ],
   "source": [
    "print(dbXrefsCountDict)"
   ]
  },
  {
   "cell_type": "code",
   "execution_count": 209,
   "id": "polish-gardening",
   "metadata": {},
   "outputs": [],
   "source": [
    "# synonyms\n",
    "keys = indelTable['synonym_count'].unique()\n",
    "synonymCountDict = dict.fromkeys(keys, 0)\n",
    "for i, row in indelTable.iterrows():\n",
    "    key = indelTable.at[i, 'synonym_count']\n",
    "    try:\n",
    "        synonymCountDict[key] += 1\n",
    "    except KeyError:\n",
    "        continue\n",
    "synonymCountList = list(synonymCountDict.items())\n",
    "for i in range(len(synonymCountList) - 1):\n",
    "    for j in range(i + 1, len(synonymCountList)):\n",
    "        if synonymCountList[i][1] > synonymCountList[j][1]:\n",
    "            temp = synonymCountList[i]\n",
    "            synonymCountList[i] = synonymCountList[j]\n",
    "            synonymCountList[j] = temp\n",
    "    synonymCountDict = dict(synonymCountList)"
   ]
  },
  {
   "cell_type": "code",
   "execution_count": 210,
   "id": "promising-mauritius",
   "metadata": {},
   "outputs": [
    {
     "name": "stdout",
     "output_type": "stream",
     "text": [
      "{23: 2, 17: 2, 19: 16, 15: 22, 18: 24, 16: 30, 14: 52, 13: 76, 12: 120, 11: 202, 10: 311, 9: 375, 8: 669, 7: 1087, 6: 1437, 5: 2383, 0: 3014, 4: 3301, 1: 3751, 3: 3770, 2: 4157}\n"
     ]
    }
   ],
   "source": [
    "print(synonymCountDict)"
   ]
  }
 ],
 "metadata": {
  "kernelspec": {
   "display_name": "Python 3",
   "language": "python",
   "name": "python3"
  },
  "language_info": {
   "codemirror_mode": {
    "name": "ipython",
    "version": 3
   },
   "file_extension": ".py",
   "mimetype": "text/x-python",
   "name": "python",
   "nbconvert_exporter": "python",
   "pygments_lexer": "ipython3",
   "version": "3.8.6"
  }
 },
 "nbformat": 4,
 "nbformat_minor": 5
}
