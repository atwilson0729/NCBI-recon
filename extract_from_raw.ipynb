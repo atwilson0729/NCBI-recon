{
 "cells": [
  {
   "cell_type": "code",
   "execution_count": 1,
   "id": "native-nursery",
   "metadata": {},
   "outputs": [
    {
     "name": "stdout",
     "output_type": "stream",
     "text": [
      "['D:\\\\jayData\\\\monthly_human_data\\\\human_gene_info.20200422', 'D:\\\\jayData\\\\monthly_human_data\\\\human_gene_info.20200710', 'D:\\\\jayData\\\\monthly_human_data\\\\human_gene_info.20200810', 'D:\\\\jayData\\\\monthly_human_data\\\\human_gene_info.20201031', 'D:\\\\jayData\\\\monthly_human_data\\\\human_gene_info.20201129', 'D:\\\\jayData\\\\monthly_human_data\\\\human_gene_info.20201231', 'D:\\\\jayData\\\\monthly_human_data\\\\human_gene_info.20210109']\n"
     ]
    }
   ],
   "source": [
    "import os\n",
    "from csv_diff import load_csv, compare\n",
    "folderpath = r\"D:\\jayData\\monthly_human_data\" # make sure to put the 'r' in front\n",
    "filepaths  = [os.path.join(folderpath, name) for name in os.listdir(folderpath)]\n",
    "all_files = []\n",
    "print(filepaths)"
   ]
  },
  {
   "cell_type": "code",
   "execution_count": 4,
   "id": "brazilian-confirmation",
   "metadata": {},
   "outputs": [],
   "source": [
    "#this is the initial import of the diff files, loading them into pandas dataframes\n",
    "import pandas as pd\n",
    "import numpy as np\n",
    "from csv_diff import load_csv, compare\n",
    "\n",
    "header = ['tax_id', 'GeneID', 'Symbol', 'LocusTag', 'Synonyms', 'dbXrefs', 'chromosome', 'map_location', 'description', 'type_of_gene', 'Symbol_from_nomenclature_authority', 'Full_name_from_nomenclature_authority', 'Nomenclature_status', 'Other_designations', 'Modification_date', 'Feature_type']\n",
    "dfList = []\n",
    "# data = pd.read_csv('D:\\\\jayData\\\\yearly_diffs\\\\2008_2009_diff.csv', delimiter = '\\t', skiprows = 3, error_bad_lines = False)\n",
    "# data.columns = header\n",
    "j = 4\n",
    "# data = pd.read_csv(filepaths[j], delimiter = \"\\t\")\n",
    "# data.columns = header\n",
    "for i in range(7):\n",
    "    globals()['df%s' % i] = pd.read_csv(filepaths[i], delimiter = \"\t\", header = None, dtype = str)\n",
    "    globals()['df%s' % i].columns = header\n",
    "    dfList.append(globals()['df%s' % i])\n",
    "# print(filepaths[j])"
   ]
  },
  {
   "cell_type": "code",
   "execution_count": null,
   "id": "dedicated-spain",
   "metadata": {},
   "outputs": [],
   "source": [
    "print(data['tax_id'])"
   ]
  },
  {
   "cell_type": "code",
   "execution_count": 6,
   "id": "alive-worse",
   "metadata": {
    "tags": []
   },
   "outputs": [
    {
     "name": "stdout",
     "output_type": "stream",
     "text": [
      "0\n",
      "syns\n",
      "dbXrefs\n",
      "1\n",
      "syns\n",
      "dbXrefs\n",
      "2\n",
      "syns\n",
      "dbXrefs\n",
      "3\n",
      "syns\n",
      "dbXrefs\n",
      "4\n",
      "syns\n",
      "dbXrefs\n",
      "5\n",
      "syns\n",
      "dbXrefs\n",
      "6\n",
      "syns\n",
      "dbXrefs\n"
     ]
    }
   ],
   "source": [
    "newDfList = []\n",
    "n = 0\n",
    "\n",
    "for df in dfList:\n",
    "    print(n)\n",
    "    diff_symbols = []\n",
    "#     df = df[['tax_id', 'GeneID', 'Synonyms', 'dbXrefs', 'chromosome', 'Modification_date']]\n",
    "#     df = df[df['tax_id'].str.contains('9606', na = False)]\n",
    "#     for i, row in df.iterrows():\n",
    "#         diff_symbols.append(df.at[i, 'tax_id'][0])\n",
    "#         if df.at[i, 'tax_id'][0] == ' ':\n",
    "#             df.drop(i, inplace = True)\n",
    "\n",
    "    synonym_count = []\n",
    "    dbXrefs_count = []\n",
    "    has_hgnc = []\n",
    "    has_mim = []\n",
    "    has_ensembl = []\n",
    "    print('syns')##############################################################\n",
    "    for i, row in df.iterrows():\n",
    "        if isinstance(df.at[i, 'Synonyms'], str):\n",
    "            if df.at[i, 'Synonyms'] == '-':\n",
    "                synonym_count.append(0)\n",
    "            else:\n",
    "                synonym_count.append(str(df.at[i, 'Synonyms'].count('|') + 1))\n",
    "        if isinstance(df.at[i, 'Synonyms'], float):\n",
    "            synonym_count.append(0)\n",
    "    print('dbXrefs')###########################################################\n",
    "    for i, row in df.iterrows():\n",
    "        val = df.at[i, 'dbXrefs']\n",
    "        if isinstance(val, str):\n",
    "            if val == '-':\n",
    "                dbXrefs_count.append(0)\n",
    "                has_hgnc.append(False)\n",
    "                has_mim.append(False)\n",
    "                has_ensembl.append(False)\n",
    "            else:\n",
    "                dbXrefs_count.append(str(val.count('|') + 1))\n",
    "                has_hgnc.append('HGNC' in val)\n",
    "                has_mim.append('MIM' in val)\n",
    "                has_ensembl.append('Ensembl' in val)\n",
    "        if isinstance(val, float):\n",
    "            dbXrefs_count.append(0)\n",
    "            has_hgnc.append(False)\n",
    "            has_mim.append(False)\n",
    "            has_ensembl.append(False)\n",
    "#     print('indels')############################################################\n",
    "#     indelupdateCols = []\n",
    "#     for i, row in df.iterrows():\n",
    "# #         temp = df[df['tax_id'].str.contains(str(df.at[i, 'GeneID']), na = False)]\n",
    "#         sub = df[df.values == df.at[i, 'GeneID']]\n",
    "#         print(df.at[i, 'GeneID'])\n",
    "#         if sub.shape[0] > 1:\n",
    "#             if sub.iloc[0]['Modification_date'] != sub.iloc[1]['Modification_date']:\n",
    "#                 indelupdateCols.append('update - date only')\n",
    "#             else:\n",
    "#                 indelupdateCols.append('update')\n",
    "#         if sub.shape[0] <= 1:\n",
    "#             if df.at[i, 'tax_id'][0] == ' ':\n",
    "#                 indelupdateCols.append('NA')\n",
    "#             if df.at[i, 'tax_id'][0] == '+':\n",
    "#                 indelupdateCols.append('insertion')\n",
    "#             if df.at[i, 'tax_id'][0] == '-':\n",
    "#                 indelupdateCols.append('deletion')\n",
    "#             if df.at[i, 'tax_id'][0] == '@':\n",
    "#                 indelupdateCols.append('NA')\n",
    "                \n",
    "#     for i, row in df.iterrows():\n",
    "#         df.at[i, 'tax_id'] = df.at[i,'tax_id'][1:]\n",
    "        \n",
    "    df['synonym_count'] = synonym_count\n",
    "    df['dbXrefs_count'] = dbXrefs_count\n",
    "    df['has_hgnc'] = has_hgnc\n",
    "    df['has_mim'] = has_mim\n",
    "    df['has_ensembl'] = has_ensembl\n",
    "    newDfList.append(df.copy())\n",
    "    df.to_csv('d:/jayData/other_monthly_data/monthlyDataAnal%s.csv' % n, index = False, sep = '\\t')\n",
    "    n += 1\n",
    "    "
   ]
  },
  {
   "cell_type": "code",
   "execution_count": null,
   "id": "automated-technical",
   "metadata": {},
   "outputs": [],
   "source": []
  }
 ],
 "metadata": {
  "kernelspec": {
   "display_name": "Python 3",
   "language": "python",
   "name": "python3"
  },
  "language_info": {
   "codemirror_mode": {
    "name": "ipython",
    "version": 3
   },
   "file_extension": ".py",
   "mimetype": "text/x-python",
   "name": "python",
   "nbconvert_exporter": "python",
   "pygments_lexer": "ipython3",
   "version": "3.8.6"
  }
 },
 "nbformat": 4,
 "nbformat_minor": 5
}
